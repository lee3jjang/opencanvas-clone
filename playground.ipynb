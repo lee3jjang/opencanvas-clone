{
 "cells": [
  {
   "cell_type": "code",
   "execution_count": 3,
   "id": "9591be08",
   "metadata": {},
   "outputs": [
    {
     "data": {
      "text/plain": [
       "[{'snippet': '1948년 대한민국 초대 대통령에 당선되었으나 2선 선거를 앞둔 시점에서 자유당을 창당하고 계엄령을 선포, 반대파 국회의원을 감금하는 등 변칙적 방법을 동원하여 헌법을 대통령 직선제로 개정하고 대통령에 재선되었다. 발췌 개헌, 사사오입 개헌 등을 거치며 총 3선을 한 후 3.15 부정선거로 인한 4. ...',\n",
       "  'title': '대한민국 대통령/명단 - 나무위키',\n",
       "  'link': 'https://namu.wiki/w/대한민국+대통령/명단'},\n",
       " {'snippet': '🇰🇷 대한민국 역대 대통령 시기별 정리 (2025년 기준)아래는 대한민국 정부 수립 이후 역대 대통령들의 재임 시기와 주요 특징을 정리한 표입니다. 2025년 4월 4일 윤석열 전 대통령의 탄핵을 반영한 최신 내용입니다. 순번 대통령 재임 기간 주요 특징 1이승만1948.07.24 ~ 1960.04.26초대 대통령, 장기 집권 ...',\n",
       "  'title': '대한민국 역대 대통령 시기별 정리 (2025년 기준)',\n",
       "  'link': 'https://letsgodreamkorea.tistory.com/entry/대한민국-역대-대통령-시기별-정리-2025년-기준'},\n",
       " {'snippet': '검색 대한민국 역대 대통령: 각 대통령의 임기와 주요 업적이 포스팅에서는 대한민국의 역대 대통령들이 이룬 주요 업적과 그들의 역사적 역할을 자세히 소개합니다. 각 대통령의 임기 동안 펼친 정치적, 경제적 변화와 그들이 겪은 도전들을 돌아보며 한국 현대사를 이해할 수 있습니다.함께보면 ...',\n",
       "  'title': '대한민국 역대 대통령 임기, 순서, 기간 및 주요 업적과 역할',\n",
       "  'link': 'https://information-korea.tistory.com/207'},\n",
       " {'snippet': '대한민국 대통령제는 헌법에 따라 대통령 임기가 설정되며, 현재는 5년 단임제를 원칙으로 하고 있습니다.이번 글에서는 역대 대통령의 임기와 주요 사건을 통해 국가의 정치적 변천사를 살펴보겠습니다. 1. 역대 대통령 임기와 주요 사건1대 ~ 3대: 이승만 대통령 (1948년 7월 24일 ~ 1960년 4월 27일)임기 ...',\n",
       "  'title': '대한민국 역대 대통령 임기와 주요 사건 정리',\n",
       "  'link': 'https://fiveyearsago.tistory.com/entry/대한민국-역대-대통령-임기와-주요-사건-정리'}]"
      ]
     },
     "execution_count": 3,
     "metadata": {},
     "output_type": "execute_result"
    }
   ],
   "source": [
    "from langchain_community.tools import DuckDuckGoSearchResults\n",
    "\n",
    "search = DuckDuckGoSearchResults(output_format=\"list\")\n",
    "search.invoke(\"대한민국 대통령\")"
   ]
  },
  {
   "cell_type": "code",
   "execution_count": null,
   "id": "bbc89ede",
   "metadata": {},
   "outputs": [],
   "source": [
    "from langgraph_sdk import get_client\n",
    "\n",
    "\n",
    "async def flush_threads():\n",
    "    url = 'http://localhost:2024'\n",
    "    client = get_client(url=url)\n",
    "    threads = await client.threads.search()\n",
    "\n",
    "    for t in threads:\n",
    "        thread_id = t['thread_id']\n",
    "        await client.threads.delete(thread_id=thread_id)\n",
    "\n",
    "await flush_threads()"
   ]
  },
  {
   "cell_type": "code",
   "execution_count": null,
   "id": "f76ae859",
   "metadata": {},
   "outputs": [
    {
     "data": {
      "text/plain": [
       "'test'"
      ]
     },
     "execution_count": 17,
     "metadata": {},
     "output_type": "execute_result"
    }
   ],
   "source": [
    "import datetime\n",
    "additional_context = f\"The current date is {datetime.date.today()}\"\n",
    "additional_context\n",
    "\n",
    "from langchain_core.messages import HumanMessage ,SystemMessage, AIMessage, BaseMessage\n"
   ]
  }
 ],
 "metadata": {
  "kernelspec": {
   "display_name": ".venv",
   "language": "python",
   "name": "python3"
  },
  "language_info": {
   "codemirror_mode": {
    "name": "ipython",
    "version": 3
   },
   "file_extension": ".py",
   "mimetype": "text/x-python",
   "name": "python",
   "nbconvert_exporter": "python",
   "pygments_lexer": "ipython3",
   "version": "3.13.3"
  }
 },
 "nbformat": 4,
 "nbformat_minor": 5
}
